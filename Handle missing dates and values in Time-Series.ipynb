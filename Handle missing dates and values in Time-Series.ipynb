{
 "cells": [
  {
   "cell_type": "markdown",
   "metadata": {},
   "source": [
    "## Introduction \n",
    "\n",
    "A **time series data** is the set of measurements taking place in a constant interval of time, here time acts as independent variable and the objective ( to study changes in a characteristics) is dependent variables.\n",
    "  \n",
    "For example, \n",
    "- Consumption of energy per hour\n",
    "- Sales on daily basis\n",
    "- Company's profits per quarter\n",
    "- Annual changes in a population of a country\n",
    "\n",
    "<br> Time Series data can be represented using various visualization techniques in order to uncover hidden patterns in the dataset.Since time acts as a reference point in relation to the entire procedure, it can be noticed that time-series always depicts a relationship between two variables in which one is time and the other one is any quantitative variable.\n",
    "\n",
    "Sometimes the dates in the time-series dataset might be missing or might not be available. For example, in the IoT usage datasets, we might not have usages for a particular day due to some technixal issues in the device. These missing dates needs to be captured in the Feature Engineering and appropriate action needs to be taken to get more accurate predictions or forecasts.\n"
   ]
  },
  {
   "cell_type": "markdown",
   "metadata": {},
   "source": [
    "### Python code to find any missing dates in the Time-Series"
   ]
  },
  {
   "cell_type": "code",
   "execution_count": 1,
   "metadata": {},
   "outputs": [
    {
     "name": "stdout",
     "output_type": "stream",
     "text": [
      "     Datetime Price\n",
      "0  2021-01-01    54\n",
      "1  2021-01-02    43\n",
      "2  2021-01-04    65\n",
      "3  2021-01-05    53\n",
      "4  2021-01-06    55\n",
      "5  2021-01-07    55\n"
     ]
    }
   ],
   "source": [
    "import pandas as pd\n",
    "\n",
    "stk_data = {\n",
    "    'Datetime':['2021-01-01','2021-01-02','2021-01-04','2021-01-05','2021-01-06','2021-01-07'],\n",
    "    'Price': ['54','43','65','53','55','55']\n",
    "}\n",
    "df_stk = pd.DataFrame(stk_data)\n",
    "print(df_stk)"
   ]
  },
  {
   "cell_type": "code",
   "execution_count": 2,
   "metadata": {},
   "outputs": [],
   "source": [
    "df_stk = df_stk.set_index('Datetime')"
   ]
  },
  {
   "cell_type": "code",
   "execution_count": 3,
   "metadata": {},
   "outputs": [],
   "source": [
    "df_stk.index = pd.to_datetime(df_stk.index)"
   ]
  },
  {
   "cell_type": "code",
   "execution_count": 4,
   "metadata": {},
   "outputs": [],
   "source": [
    "df_stk_new = pd.date_range(start=df_stk.index[0], end=df_stk.index[-1]).difference(df_stk.index)"
   ]
  },
  {
   "cell_type": "code",
   "execution_count": 5,
   "metadata": {},
   "outputs": [
    {
     "data": {
      "text/plain": [
       "DatetimeIndex(['2021-01-03'], dtype='datetime64[ns]', freq=None)"
      ]
     },
     "execution_count": 5,
     "metadata": {},
     "output_type": "execute_result"
    }
   ],
   "source": [
    "df_stk_new"
   ]
  },
  {
   "cell_type": "markdown",
   "metadata": {},
   "source": [
    "It is evident that the date '2021-01-03' was missing in the original dataset.\n",
    "Further analysis or feature engineering can be continued based on the problem statement"
   ]
  },
  {
   "cell_type": "markdown",
   "metadata": {},
   "source": [
    "### Python code to populate the missing dates in the DataFrame "
   ]
  },
  {
   "cell_type": "code",
   "execution_count": 6,
   "metadata": {},
   "outputs": [
    {
     "name": "stdout",
     "output_type": "stream",
     "text": [
      "     Datetime label\n",
      "0  2021-01-01    54\n",
      "1  2021-01-02    43\n",
      "2  2021-01-04    65\n",
      "3  2021-01-05    53\n",
      "4  2021-01-06    55\n",
      "5  2021-01-07    55\n"
     ]
    }
   ],
   "source": [
    "import pandas as pd\n",
    "\n",
    "data = {\n",
    "    'Datetime':['2021-01-01','2021-01-02','2021-01-04','2021-01-05','2021-01-06','2021-01-07'],\n",
    "    'label': ['54','43','65','53','55','55']\n",
    "}\n",
    "df = pd.DataFrame(data)\n",
    "print(df)"
   ]
  },
  {
   "cell_type": "code",
   "execution_count": 7,
   "metadata": {},
   "outputs": [],
   "source": [
    "df['Datetime'] = pd.to_datetime(df['Datetime'])"
   ]
  },
  {
   "cell_type": "code",
   "execution_count": 8,
   "metadata": {},
   "outputs": [],
   "source": [
    "idx = pd.date_range(df['Datetime'].min(), df['Datetime'].max())"
   ]
  },
  {
   "cell_type": "code",
   "execution_count": 9,
   "metadata": {},
   "outputs": [],
   "source": [
    "df = df.set_index('Datetime')"
   ]
  },
  {
   "cell_type": "code",
   "execution_count": 10,
   "metadata": {},
   "outputs": [
    {
     "data": {
      "text/html": [
       "<div>\n",
       "<style scoped>\n",
       "    .dataframe tbody tr th:only-of-type {\n",
       "        vertical-align: middle;\n",
       "    }\n",
       "\n",
       "    .dataframe tbody tr th {\n",
       "        vertical-align: top;\n",
       "    }\n",
       "\n",
       "    .dataframe thead th {\n",
       "        text-align: right;\n",
       "    }\n",
       "</style>\n",
       "<table border=\"1\" class=\"dataframe\">\n",
       "  <thead>\n",
       "    <tr style=\"text-align: right;\">\n",
       "      <th></th>\n",
       "      <th>label</th>\n",
       "    </tr>\n",
       "  </thead>\n",
       "  <tbody>\n",
       "    <tr>\n",
       "      <th>2021-01-01</th>\n",
       "      <td>54</td>\n",
       "    </tr>\n",
       "    <tr>\n",
       "      <th>2021-01-02</th>\n",
       "      <td>43</td>\n",
       "    </tr>\n",
       "    <tr>\n",
       "      <th>2021-01-03</th>\n",
       "      <td>NaN</td>\n",
       "    </tr>\n",
       "    <tr>\n",
       "      <th>2021-01-04</th>\n",
       "      <td>65</td>\n",
       "    </tr>\n",
       "    <tr>\n",
       "      <th>2021-01-05</th>\n",
       "      <td>53</td>\n",
       "    </tr>\n",
       "    <tr>\n",
       "      <th>2021-01-06</th>\n",
       "      <td>55</td>\n",
       "    </tr>\n",
       "    <tr>\n",
       "      <th>2021-01-07</th>\n",
       "      <td>55</td>\n",
       "    </tr>\n",
       "  </tbody>\n",
       "</table>\n",
       "</div>"
      ],
      "text/plain": [
       "           label\n",
       "2021-01-01    54\n",
       "2021-01-02    43\n",
       "2021-01-03   NaN\n",
       "2021-01-04    65\n",
       "2021-01-05    53\n",
       "2021-01-06    55\n",
       "2021-01-07    55"
      ]
     },
     "execution_count": 10,
     "metadata": {},
     "output_type": "execute_result"
    }
   ],
   "source": [
    "df_result = df.reindex(idx)\n",
    "df_result"
   ]
  },
  {
   "cell_type": "markdown",
   "metadata": {},
   "source": [
    "The above code will include the missing dates in the time-series problem with the NULL values in the \"label\" column.\n",
    "<br> We will need to use the EDA & Feature engineering techniques to fill the NULL values"
   ]
  },
  {
   "cell_type": "markdown",
   "metadata": {},
   "source": [
    "### Handling Missing Time Series Data"
   ]
  },
  {
   "cell_type": "markdown",
   "metadata": {},
   "source": [
    "When data is missing in a time series, we can use some form of imputation or interpolation to impute the missing values. \n",
    "We can try the below methods to populate the missing values\n",
    "\n",
    "1. Interpolate\n",
    "2. Fillna\n",
    "3. Impyute\n",
    "\n",
    "I tried using the **fillna() with forward fill** method in the below example "
   ]
  },
  {
   "cell_type": "code",
   "execution_count": 11,
   "metadata": {},
   "outputs": [
    {
     "data": {
      "text/html": [
       "<div>\n",
       "<style scoped>\n",
       "    .dataframe tbody tr th:only-of-type {\n",
       "        vertical-align: middle;\n",
       "    }\n",
       "\n",
       "    .dataframe tbody tr th {\n",
       "        vertical-align: top;\n",
       "    }\n",
       "\n",
       "    .dataframe thead th {\n",
       "        text-align: right;\n",
       "    }\n",
       "</style>\n",
       "<table border=\"1\" class=\"dataframe\">\n",
       "  <thead>\n",
       "    <tr style=\"text-align: right;\">\n",
       "      <th></th>\n",
       "      <th>label</th>\n",
       "    </tr>\n",
       "  </thead>\n",
       "  <tbody>\n",
       "    <tr>\n",
       "      <th>2021-01-01</th>\n",
       "      <td>54</td>\n",
       "    </tr>\n",
       "    <tr>\n",
       "      <th>2021-01-02</th>\n",
       "      <td>43</td>\n",
       "    </tr>\n",
       "    <tr>\n",
       "      <th>2021-01-03</th>\n",
       "      <td>43</td>\n",
       "    </tr>\n",
       "    <tr>\n",
       "      <th>2021-01-04</th>\n",
       "      <td>65</td>\n",
       "    </tr>\n",
       "    <tr>\n",
       "      <th>2021-01-05</th>\n",
       "      <td>53</td>\n",
       "    </tr>\n",
       "    <tr>\n",
       "      <th>2021-01-06</th>\n",
       "      <td>55</td>\n",
       "    </tr>\n",
       "    <tr>\n",
       "      <th>2021-01-07</th>\n",
       "      <td>55</td>\n",
       "    </tr>\n",
       "  </tbody>\n",
       "</table>\n",
       "</div>"
      ],
      "text/plain": [
       "           label\n",
       "2021-01-01    54\n",
       "2021-01-02    43\n",
       "2021-01-03    43\n",
       "2021-01-04    65\n",
       "2021-01-05    53\n",
       "2021-01-06    55\n",
       "2021-01-07    55"
      ]
     },
     "execution_count": 11,
     "metadata": {},
     "output_type": "execute_result"
    }
   ],
   "source": [
    "df_result['label'].fillna(method = 'ffill', inplace = True)\n",
    "df_result"
   ]
  }
 ],
 "metadata": {
  "kernelspec": {
   "display_name": "Python 3",
   "language": "python",
   "name": "python3"
  },
  "language_info": {
   "codemirror_mode": {
    "name": "ipython",
    "version": 3
   },
   "file_extension": ".py",
   "mimetype": "text/x-python",
   "name": "python",
   "nbconvert_exporter": "python",
   "pygments_lexer": "ipython3",
   "version": "3.8.5"
  }
 },
 "nbformat": 4,
 "nbformat_minor": 4
}
